{
  "nbformat": 4,
  "nbformat_minor": 0,
  "metadata": {
    "colab": {
      "name": "ニューラルネットワークの基礎（コード未完成版）.ipynb",
      "version": "0.3.2",
      "provenance": [],
      "collapsed_sections": [],
      "include_colab_link": true
    },
    "kernelspec": {
      "name": "python3",
      "display_name": "Python 3"
    }
  },
  "cells": [
    {
      "cell_type": "markdown",
      "metadata": {
        "id": "view-in-github",
        "colab_type": "text"
      },
      "source": [
        "<a href=\"https://colab.research.google.com/github/taichi0315/neural-network/blob/master/%E3%83%8B%E3%83%A5%E3%83%BC%E3%83%A9%E3%83%AB%E3%83%8D%E3%83%83%E3%83%88%E3%83%AF%E3%83%BC%E3%82%AF%E3%81%AE%E5%9F%BA%E7%A4%8E%EF%BC%88%E3%82%B3%E3%83%BC%E3%83%89%E6%9C%AA%E5%AE%8C%E6%88%90%E7%89%88%EF%BC%89.ipynb\" target=\"_parent\"><img src=\"https://colab.research.google.com/assets/colab-badge.svg\" alt=\"Open In Colab\"/></a>"
      ]
    },
    {
      "metadata": {
        "id": "Az_Ioa2edEfI",
        "colab_type": "text"
      },
      "cell_type": "markdown",
      "source": [
        "# 目的\n",
        "ニューラルネットワークとはどのような構造であるか、irisデータセットを用いた花の分類を行うニューラルネットワークを実装することで、ニューラルネットワークの基礎を理解することを目的とします。"
      ]
    },
    {
      "metadata": {
        "id": "WnSFeqHbT10M",
        "colab_type": "text"
      },
      "cell_type": "markdown",
      "source": [
        "# 本テキストの対象者\n",
        "- pythonを使って条件分岐・繰り返し処理・関数の作成を行うことができる。\n",
        "- 線形代数の基礎知識がある。"
      ]
    },
    {
      "metadata": {
        "id": "0QUlyKbET3_E",
        "colab_type": "text"
      },
      "cell_type": "markdown",
      "source": [
        "# 実装を行う例題\n",
        "\n",
        "本テキストでは、irisデータセットを用いてニューラルネットワークの実装を行います。irisデータセットは、一つのサンプルにつき「ガクの長さ」、「ガクの幅」、「花弁の長さ」、「花弁の幅」の4つの変数とそのサンプルが何の花のサンプルであるかの正解ラベルがセットで与えられます。今回は簡単のため、「ガクの長さ」、「花弁の長さ」の２つの変数が与えられた場合に、その花の種類が何であるかの分類を行うニューラルネットワークを実装します。"
      ]
    },
    {
      "metadata": {
        "id": "rqB0IEVWeDOc",
        "colab_type": "text"
      },
      "cell_type": "markdown",
      "source": [
        "# データの準備・説明"
      ]
    },
    {
      "metadata": {
        "id": "vi5o83y4TyXw",
        "colab_type": "text"
      },
      "cell_type": "markdown",
      "source": [
        "## irisデータセットのダウンロード\n",
        "irisデータセットのダウンロードはpythonの機械学習ライブラリであるscikit-learnを用いて行います。scikit-learnについて本テキストではこれ以上触れません。"
      ]
    },
    {
      "metadata": {
        "id": "Kfp1MWVibs3-",
        "colab_type": "code",
        "colab": {}
      },
      "cell_type": "code",
      "source": [
        "from sklearn.datasets import load_iris\n",
        "iris = load_iris()"
      ],
      "execution_count": 0,
      "outputs": []
    },
    {
      "metadata": {
        "id": "QFSxXcJV5Xnb",
        "colab_type": "text"
      },
      "cell_type": "markdown",
      "source": [
        "## 分類を行う花の種類\n",
        "今回は、花の種類がsetosaとversicolorのどちらであるかの分類を行います。irisデータセットでは花の種類の区別が整数値で扱われているため、以下の辞書を作成し、花の種類の可視化に役立てます。0がsetosa、1がversicolorに対応します。"
      ]
    },
    {
      "metadata": {
        "id": "JbPxuPFT5l8L",
        "colab_type": "code",
        "colab": {}
      },
      "cell_type": "code",
      "source": [
        "iris_name = {0:'setosa', 1:'versicolor'}"
      ],
      "execution_count": 0,
      "outputs": []
    },
    {
      "metadata": {
        "id": "8iJlqYMb2qiO",
        "colab_type": "text"
      },
      "cell_type": "markdown",
      "source": [
        "## サンプルの抽出\n",
        "以下のコードによって、irisデータセット１つのサンプルにつき「ガクの長さ」、「花弁の長さ」の２つの変数とそのサンプルが何の花のサンプルであるかの正解ラベルを抽出します。setosaとversicolorそれぞれ50個ずつのサンプルが得られます。"
      ]
    },
    {
      "metadata": {
        "id": "eHKUKHdo2pXh",
        "colab_type": "code",
        "colab": {}
      },
      "cell_type": "code",
      "source": [
        "X = []\n",
        "Y = []\n",
        "\n",
        "for i in range(100):\n",
        "    X.append([iris.data[i][0], iris.data[i][2]])\n",
        "    Y.append(iris_name[iris.target[i]])"
      ],
      "execution_count": 0,
      "outputs": []
    },
    {
      "metadata": {
        "id": "tTCUaQXZ3azw",
        "colab_type": "text"
      },
      "cell_type": "markdown",
      "source": [
        "以下のコードで、抽出したサンプルの先頭５つを確認します。"
      ]
    },
    {
      "metadata": {
        "id": "cSl4T5Ta7f9l",
        "colab_type": "code",
        "outputId": "8fdc79a9-7c82-40bd-c953-16b02d44f7b8",
        "colab": {
          "base_uri": "https://localhost:8080/",
          "height": 119
        }
      },
      "cell_type": "code",
      "source": [
        "print('[ガクの長さ,花弁の長さ] 花の種類')\n",
        "for i in range(5):\n",
        "    print(X[i],Y[i])"
      ],
      "execution_count": 0,
      "outputs": [
        {
          "output_type": "stream",
          "text": [
            "[ガクの長さ,花弁の長さ] 花の種類\n",
            "[5.1, 1.4] setosa\n",
            "[4.9, 1.4] setosa\n",
            "[4.7, 1.3] setosa\n",
            "[4.6, 1.5] setosa\n",
            "[5.0, 1.4] setosa\n"
          ],
          "name": "stdout"
        }
      ]
    },
    {
      "metadata": {
        "id": "7ERrY5w7tx8L",
        "colab_type": "text"
      },
      "cell_type": "markdown",
      "source": [
        "# ニューラルネットワークの基礎理論\n",
        "\n"
      ]
    },
    {
      "metadata": {
        "id": "mrX1YFs2TurC",
        "colab_type": "text"
      },
      "cell_type": "markdown",
      "source": [
        "## ニューラルネットワークとは\n",
        "ニューラルネットワークとは、人間の脳を構成しているニューロン（神経細胞）を数理モデル化しネットワークとして組み合わせたものです。ニューロンを数理モデル化すると、与えられた入力に対して出力を返す関数になります。近年の機械学習ブームはニューラルネットワークの発展が引き金となっています。\n",
        "\n",
        "<div align=center>\n",
        "![代替テキスト](http://hokuts.com/wp-content/uploads/2015/11/perceptron.png)<br>\n",
        "図5.1　ニューロンの概要図</div><br>"
      ]
    },
    {
      "metadata": {
        "id": "jrE1fUmo71Cc",
        "colab_type": "text"
      },
      "cell_type": "markdown",
      "source": [
        "今回構築するニューラルネットワークは以下の図5.2のような構造になっています。\n",
        "\n",
        "<div align=center>\n",
        "\n",
        "![今回構築するニューラルネットワーク](http://wiki.nepp.tokyo:8080/uploads/images/drawio/2019-02-Feb/Drawing-Kushiro-Taichi-1550165905.png)<br>\n",
        "\n",
        "図5.2　３層ニューラルネットワーク</div><br>\n"
      ]
    },
    {
      "metadata": {
        "id": "Zpm_Y0ID75G-",
        "colab_type": "text"
      },
      "cell_type": "markdown",
      "source": [
        "ニューラルネットワークは、入力層・隠れ層・出力層の３つに分けられます。\n",
        "\n",
        "\n",
        "- 入力層  \n",
        "入力データが与えられる層。今回は$x_1=$ガクの長さ、$x_2=$花弁の長さとなる。\n",
        "\n",
        "- 隠れ層  \n",
        "入力層と出力層の中間の層。任意の数の層を設定する（今回は2層）。各層には任意の数のニューロンを設定する。\n",
        "\n",
        "- 出力層  \n",
        "隠れ層から受け取った値を元に計算を行い、結果を出力する層。今回は、$y_1$がsetosa、$y_2$がversicolorに対応する。具体的には、仮に与えられたサンプルの花の種類がsetosaである確率が80％、versicolorである確率が20％と予測される場合、$y_1=0.8$、$y_2=0.2$という結果が出力される。"
      ]
    },
    {
      "metadata": {
        "id": "mvr6tIHUG1Wj",
        "colab_type": "text"
      },
      "cell_type": "markdown",
      "source": [
        "## 各ニューロンでの計算\n",
        "最初に、各ニューロンでどのような計算が行われるかを簡単に説明します。\n",
        "\n",
        "<div align=center>\n",
        "![各ニューロンにおける計算](http://wiki.nepp.tokyo:8080/uploads/images/drawio/2019-02-Feb/Drawing-Kushiro-Taichi-1550167256.png)<br>\n",
        "図5.3　各ニューロンでの計算</div><br>\n",
        "\n",
        "\n"
      ]
    },
    {
      "metadata": {
        "id": "E34lUBadLGjz",
        "colab_type": "text"
      },
      "cell_type": "markdown",
      "source": [
        "各ニューロンでは、与えられた入力$x_i$に対してそれぞれ重み$w_i$を掛けます。そして、それぞれ重みを掛けたものの総和にバイアス$b$を足すことで$a$という結果が得られ、$a$を活性化関数$h()$で変換することで出力$y$が求められます。図5.2の今回構築するニューラルネットワークでは、簡単のためバイアスは省略してあります。以下に各ニューロンで行われる計算を数式でまとめます。\n",
        "\n",
        "<div align=center>\n",
        "$$\n",
        "\\begin{align}\n",
        "        a &= w_1 \\times x_1 + w_2 \\times x_2 + b \\quad &&(5.1)\\\\\n",
        "        y &= h(a) \\quad &&(5.2)\n",
        "\\end{align}\n",
        "$$\n",
        "</div>\n",
        "\n",
        "また、数式(5.1)はベクトルの内積を用いて表すこともできます。\n",
        "\n",
        "$$\n",
        "\\begin{align}\n",
        "        u & = w_1 \\times x_1 + w_2 \\times x_2 + b\\\\\n",
        "               & = \\left(x_1, x_2 \\right) \n",
        "                      \\left(\n",
        "                        \\begin{array}{c}\n",
        "                            w_1 \\\\\n",
        "                            w_2 \n",
        "                            \\end{array}\n",
        "                          \\right) + b \\quad &&(5.3)\n",
        "\\end{align}\n",
        "$$\n",
        "</div>\n",
        "\n",
        "後で説明しますが、ニューラルネットワークでは、数式(5.3)のベクトルの内積と同様に行列の内積を用いて計算が行われることが一般的となっています。"
      ]
    },
    {
      "metadata": {
        "id": "dCPwo6qGOlDW",
        "colab_type": "text"
      },
      "cell_type": "markdown",
      "source": [
        "## 重みとバイアス\n",
        "ここで数式(5.1)に用いられている重みとバイアスについて説明をします。活性化関数については後述します。"
      ]
    },
    {
      "metadata": {
        "id": "JkGg9khcTpYa",
        "colab_type": "text"
      },
      "cell_type": "markdown",
      "source": [
        "### 重み\n",
        "重みとは、それぞれの入力値がどれだけ重要かを表す値です。\n",
        "\n",
        "irisデータセットで例えると、setosaの花はガクの長さ$x_1$がとても長い傾向にあるとした場合、$x_1$が持つ値の情報は重要になります。そのため、もし仮に図２のニューロンの出力が、satosaの分類予測値である$y_1$にとって重要な入力となる場合、$x_1$へ掛け合わせる$w_1$の値が大きい方が予測が当たりやすいということになります。\n"
      ]
    },
    {
      "metadata": {
        "id": "WusKa0HkQoUT",
        "colab_type": "text"
      },
      "cell_type": "markdown",
      "source": [
        "### バイアス\n",
        "次にバイアスです。ここでは、バイアスのイメージを掴むために単回帰分析([詳しくはこちら](https://bellcurve.jp/statistics/course/9700.html))の例を挙げます。\n",
        "例えばirisのデータを使って、ガクの長さ$x_1$が入力として与えられた時に花弁の長さ$x_2$を予測する問題が与えられたとします。\n",
        "\n",
        "<div align=center>\n",
        "![代替テキスト](http://wiki.nepp.tokyo:8080/uploads/images/drawio/2019-02-Feb/Drawing-Kushiro-Taichi-1550168930.png)<br>\n",
        "図5.4　単回帰分析の例\n",
        "</div><br>"
      ]
    },
    {
      "metadata": {
        "id": "668z-JcgQtS1",
        "colab_type": "text"
      },
      "cell_type": "markdown",
      "source": [
        "図5.4のグラフは、横軸がガクの長さ、縦軸が花弁の長さで、事前に与えられたデータ5個（$x_1$と$x_2$の組み合わせでデータ1つ分）の散布図を表しています。\n",
        "\n",
        "<br>\n",
        "\n",
        "単回帰分析で予測を行う場合、花弁の長さの予測値を$y$とすると、予測を行う式は一次関数$y=ax_1+b$となります。単回帰分析はこの一次関数の傾き$a$（重み）と切片$b$（バイアス）の値を調整することで予測の誤差を小さくしていきます。\n",
        "\n",
        "<br>\n",
        "では、バイアスが0が与えられず$b=0$の場合はどうなるでしょう。図5.4のグラフにおいて、赤色の線はバイアス$b$が誤差の少ない値に調整済みの場合、緑色の線は$b=0$であるバイアスが与えられなかった場合です。比べてみると、明らかに赤色の線の方がデータの特徴を掴めていることがわかります。\n",
        "\n",
        "<br>\n",
        "\n",
        "ニューラルネットワークにおけるバイアスは単回帰分析における予測式の切片と似たような役割を持ちます。与えられた入力に重みを掛け合わせた値にバイアスを足すことで、予測の精度を上げることに役立ちます。"
      ]
    },
    {
      "metadata": {
        "id": "bnfItY9JS0ec",
        "colab_type": "text"
      },
      "cell_type": "markdown",
      "source": [
        "# ３層ニューラルネットワークの実装\n",
        "本章では、図5.2で示した３層のニューラルネットワークをpythonを用いて実装していきます。ライブラリはnumpyと呼ばれる科学計算ライブラリを用います。なお今回は、ニューラルネットワークの基礎を理解できるようにするため、簡単にニューラルネットワークを実装することができるpytorch、tensorflow、keras、chainerといったライブラリは使用しません。"
      ]
    },
    {
      "metadata": {
        "id": "LSUvu5F3liqc",
        "colab_type": "text"
      },
      "cell_type": "markdown",
      "source": [
        "## numpyのインポート\n",
        "以下のコードでnumpyのインポートを行います。"
      ]
    },
    {
      "metadata": {
        "id": "3N-a2GxYl0vr",
        "colab_type": "code",
        "colab": {}
      },
      "cell_type": "code",
      "source": [
        "import numpy as np"
      ],
      "execution_count": 0,
      "outputs": []
    },
    {
      "metadata": {
        "id": "l5Ga2aTCBPS2",
        "colab_type": "text"
      },
      "cell_type": "markdown",
      "source": [
        "## 記号の確認\n",
        "ここでニューラルネットワークで説明する処理を理解するにあたり、$w_{12}^{(1)}$や$a_1^{(1)}$などの記号を導入します。\n",
        "\n",
        "\n",
        "\n",
        "<div align=center>\n",
        "![代替テキスト](http://wiki.nepp.tokyo:8080/uploads/images/drawio/2019-02-Feb/Drawing-Kushiro-Taichi-1550171407.png)<br>\n",
        "図6.1　重みの記号\n",
        "</div><br>"
      ]
    },
    {
      "metadata": {
        "id": "8k4t75_9a_TT",
        "colab_type": "text"
      },
      "cell_type": "markdown",
      "source": [
        "図6.1に示すとおり、重みや隠れ層のニューロンの右上には「(1)」とつきます。これは第１層の重み・ニューロンという意味になります。重みの右下には数字が２つ並びます。次層のニューロンと前層のニューロンの順でインデックス番号が振られます。例として、$w_{12}^{(1)}$は前層２番目のニューロン$x_2$から次層１番目のニューロン$a_1^{(1)}$への重みであることを意味します。"
      ]
    },
    {
      "metadata": {
        "id": "f1JS2Ky3dPqm",
        "colab_type": "text"
      },
      "cell_type": "markdown",
      "source": [
        "## 入力層⇨第１層目\n",
        "それでは、入力層から隠れ層である第１層目への伝達を実装します。入力層から第１層目の１番目のニューロン$a_1^{(1)}$への伝達を以下の図6.2で表します。\n",
        "\n",
        "<div align=center>\n",
        "![代替テキスト](http://wiki.nepp.tokyo:8080/uploads/images/drawio/2019-02-Feb/Drawing-Kushiro-Taichi-1550173084.png)<br>\n",
        "図6.2　入力層から第１層目の１番目のニューロン$a_1^{(1)}$への伝達\n",
        "</div><br>"
      ]
    },
    {
      "metadata": {
        "id": "9lFEvsqohXR7",
        "colab_type": "text"
      },
      "cell_type": "markdown",
      "source": [
        "この図6.2を参考にし、ニューロン$a_1^{(1)}$を数式で表すと以下のようになります。\n",
        "\n",
        "<div align=center>\n",
        "$$\n",
        "\\begin{align}\n",
        "        a_1^{(1)} &= w_{11}^{(1)} \\times x_1 + w_{12}^{(1)} \\times x_2 + b_1^{(1)} \\quad &&(6.1)\\\\\n",
        "\\end{align}\n",
        "$$\n",
        "</div>"
      ]
    },
    {
      "metadata": {
        "id": "thleflQlieYa",
        "colab_type": "text"
      },
      "cell_type": "markdown",
      "source": [
        "ニューロン$a_2^{(1)}$、$a_3^{(3)}$も同様にして求めることができますがこれら第１層目のニューロン$a_i^{(1)}$は以下のように行列の内積でまとめて表すことができます。\n",
        "<div align=center>\n",
        "$$\n",
        "\\begin{align}\n",
        "        A^{(1)} = XW^{(1)} + B^{(1)} \\quad &&(6.2)\\\\\n",
        "\\end{align}\n",
        "$$\n",
        "</div>\n",
        "\n",
        "ただし、$A^{(1)}$ 、$X$、$W^{(1)}$、$B^{(1)}$はそれぞれ以下のようになります。\n",
        "<div align=center>\n",
        "$$\n",
        "\\begin{align}\n",
        "        A^{(1)} &= \\left( a_1^{(1)} a_2^{(1)} a_3^{(1)} \\right) \\quad &&(6.3)\\\\\n",
        "        X &= \\left( x_1 x_2 \\right) \\quad &&(6.4)\\\\\n",
        "        W^{(1)} &= \\left(\n",
        "            \\begin{array}{ccc}\n",
        "                w_{11}^{(1)} & w_{21}^{(1)} & w_{31}^{(1)}  \\\\\n",
        "                w_{12}^{(1)} & w_{22}^{(1)} & w_{32}^{(1)} \n",
        "            \\end{array}\n",
        "        \\right) \\quad &&(6.4)\\\\\n",
        "        B^{(1)} &= \\left( b_1^{(1)} b_2^{(1)} b_3^{(1)} \\right) \\quad &&(6.5)\n",
        "\\end{align}\n",
        "$$\n",
        "</div>"
      ]
    },
    {
      "metadata": {
        "id": "qXi3nOQ9mt88",
        "colab_type": "text"
      },
      "cell_type": "markdown",
      "source": [
        "ここまでをnumpyで実装すると以下のようなコードになります。なお入力$x$は４章データの準備・説明にて抽出したirisデータの先頭サンプルを代入します。サンプルの正解ラベルはsetosa(=0)となっています。"
      ]
    },
    {
      "metadata": {
        "id": "qSHMHLjLncBS",
        "colab_type": "text"
      },
      "cell_type": "markdown",
      "source": [
        "入力する先頭サンプルのデータを確認しましょう。"
      ]
    },
    {
      "metadata": {
        "id": "LI4kh9MImtTm",
        "colab_type": "code",
        "outputId": "cde62502-6398-471b-fd30-af67c3a35d0e",
        "colab": {
          "base_uri": "https://localhost:8080/",
          "height": 68
        }
      },
      "cell_type": "code",
      "source": [
        "print(f'花の種類:{Y[0]}')\n",
        "print(f'ガクの長さ(x1):{X[0][0]}')\n",
        "print(f'花弁の長さ(x2):{X[0][1]}')"
      ],
      "execution_count": 0,
      "outputs": [
        {
          "output_type": "stream",
          "text": [
            "花の種類:setosa\n",
            "ガクの長さ(x1):5.1\n",
            "花弁の長さ(x2):1.4\n"
          ],
          "name": "stdout"
        }
      ]
    },
    {
      "metadata": {
        "id": "skqJMIZXoTED",
        "colab_type": "text"
      },
      "cell_type": "markdown",
      "source": [
        "以下のコードで、$X$、$W^{(1)}$、$B^{(1)}$をセットします。"
      ]
    },
    {
      "metadata": {
        "id": "7OnecXyjobfW",
        "colab_type": "code",
        "colab": {}
      },
      "cell_type": "code",
      "source": [
        "x = X[0]\n",
        "w1 = np.array([[-0.9,-0.9,-0.5],[0.9,0.5,1.8]])\n",
        "b1 = np.array([0,0,-0.4])"
      ],
      "execution_count": 0,
      "outputs": []
    },
    {
      "metadata": {
        "id": "QdRtRTU0o7Xw",
        "colab_type": "text"
      },
      "cell_type": "markdown",
      "source": [
        "ここでセットした重みとバイアスは、既に学習済みのパラメータとなります。本来は重みとバイアスの初期値には乱数が与えられ、学習を繰り返すたびに良い分類結果を出力する値へと更新されていきます。本テキストではニューラルネットワークの学習については省略します。"
      ]
    },
    {
      "metadata": {
        "id": "jL-Cplc5qTor",
        "colab_type": "text"
      },
      "cell_type": "markdown",
      "source": [
        "numpyでは以下のコードのように、簡単に行列計算を行うことができます。"
      ]
    },
    {
      "metadata": {
        "id": "ZV0thcrRqRsn",
        "colab_type": "code",
        "outputId": "1aada0c9-1498-4d89-ff71-33058743d346",
        "colab": {
          "base_uri": "https://localhost:8080/",
          "height": 34
        }
      },
      "cell_type": "code",
      "source": [
        ""
      ],
      "execution_count": 0,
      "outputs": [
        {
          "output_type": "stream",
          "text": [
            "[-3.33 -3.89 -0.43]\n"
          ],
          "name": "stdout"
        }
      ]
    },
    {
      "metadata": {
        "id": "e2eY7vSNNquI",
        "colab_type": "text"
      },
      "cell_type": "markdown",
      "source": [
        "以上で、$A^{(1)}$を求めることができました。"
      ]
    },
    {
      "metadata": {
        "id": "8MmYfvkXqt9f",
        "colab_type": "text"
      },
      "cell_type": "markdown",
      "source": [
        "## ReLU関数\n",
        "図5.3で示したように、入力に重みを掛け合わせバイアスを足し終えた各ニューロン$a$は、活性化関数と呼ばれる関数によって変換が行われます。活性化関数にはReLU関数、シグモイド関数、tanh関数などが用いられていますが、今回はReLU関数を用います。ReLU関数をグラフで表すと以下の図6.3のようになります。\n",
        "\n",
        "<div align=center>\n",
        "![代替テキスト](https://cdn-images-1.medium.com/max/1600/1*DfMRHwxY1gyyDmrIAd-gjQ.png)<br>\n",
        "図6.3　Relu関数\n",
        "</div><br>\n",
        "\n"
      ]
    },
    {
      "metadata": {
        "id": "p0d-YN7ss-jq",
        "colab_type": "text"
      },
      "cell_type": "markdown",
      "source": [
        "ReLU関数を数式で表すと以下のようになります。\n",
        "<div align=center>\n",
        "$$\n",
        "\\begin{align}\n",
        "        ReLU(x) &= max(0,x) = \n",
        "        \\begin{cases}\n",
        "            x(x\\geq 0)\\\\\n",
        "            0(x<0)\n",
        "        \\end{cases}\\quad &&(6.6)\\\\\n",
        "\\end{align}\n",
        "$$\n",
        "</div>\n",
        "活性化関数の役割、活性化関数それぞれの特徴については本テキストでは省略します。"
      ]
    },
    {
      "metadata": {
        "id": "1M6dbKzeuHUf",
        "colab_type": "text"
      },
      "cell_type": "markdown",
      "source": [
        "ReLU関数を以下のコードによって実装します。"
      ]
    },
    {
      "metadata": {
        "id": "BN94YBvJuMN_",
        "colab_type": "code",
        "colab": {}
      },
      "cell_type": "code",
      "source": [
        "def relu(x):\n",
        "    return np.maximum(0, x)"
      ],
      "execution_count": 0,
      "outputs": []
    },
    {
      "metadata": {
        "id": "tsbxVv7Xuaau",
        "colab_type": "text"
      },
      "cell_type": "markdown",
      "source": [
        "先ほど導出した$a_1^{(1)}$をReLU関数を用いて変換します。ここまでの伝達を図で表すと以下のようになります。活性化関数は$h()$として表します。\n",
        "\n",
        "\n",
        "\n",
        "<div align=center>\n",
        "![代替テキスト](http://wiki.nepp.tokyo:8080/uploads/images/drawio/2019-02-Feb/Drawing-Kushiro-Taichi-1550177345.png)<br>\n",
        "図6.3　入力層から第１層目の１番目のニューロン$z_1^{(1)}$への伝達\n",
        "</div><br>\n"
      ]
    },
    {
      "metadata": {
        "id": "aOq-POEjxh-l",
        "colab_type": "text"
      },
      "cell_type": "markdown",
      "source": [
        "以下に、ReLU関数を用いて$A^{(1)}$の変換を行うコードを示します。"
      ]
    },
    {
      "metadata": {
        "id": "igiGJVgIujYh",
        "colab_type": "code",
        "outputId": "51743268-3d8e-4ea2-f402-9c0f46b6ecf7",
        "colab": {
          "base_uri": "https://localhost:8080/",
          "height": 34
        }
      },
      "cell_type": "code",
      "source": [
        ""
      ],
      "execution_count": 0,
      "outputs": [
        {
          "output_type": "stream",
          "text": [
            "[0. 0. 0.]\n"
          ],
          "name": "stdout"
        }
      ]
    },
    {
      "metadata": {
        "id": "acTsh5cWL4Gp",
        "colab_type": "text"
      },
      "cell_type": "markdown",
      "source": [
        "これで第１層目の出力$Z^{(1)}$を求めることができました。"
      ]
    },
    {
      "metadata": {
        "id": "Khg9YcIwJ51r",
        "colab_type": "text"
      },
      "cell_type": "markdown",
      "source": [
        "## 第１層目⇨第２層目\n",
        "次に、隠れ層である第１層目から第２層目への伝達の実装を行います。第１層目から第２層目の１番目のニューロン$z_1^{(2)}$への伝達を以下の図6.4で表します。"
      ]
    },
    {
      "metadata": {
        "id": "W8UWCRs7I8Qc",
        "colab_type": "text"
      },
      "cell_type": "markdown",
      "source": [
        "\n",
        "<div align=center>\n",
        "![代替テキスト](http://wiki.nepp.tokyo:8080/uploads/images/drawio/2019-02-Feb/Drawing-Kushiro-Taichi-1550319280.png)<br>\n",
        "図6.4　第１層目から第２層目の１番目のニューロン$z_1^{(2)}$への伝達\n",
        "</div><br>"
      ]
    },
    {
      "metadata": {
        "id": "34viAZ5cLhAa",
        "colab_type": "text"
      },
      "cell_type": "markdown",
      "source": [
        "以下のコードで、$W^{(2)}$、$B^{(2)}$をセットします。"
      ]
    },
    {
      "metadata": {
        "id": "m2ml5FtaLgQl",
        "colab_type": "code",
        "colab": {}
      },
      "cell_type": "code",
      "source": [
        "w2 = np.array([[0.9,-0.1],[0.7,0.6],[-0.7,1.4]])\n",
        "b2 = np.array([0,-0.5])"
      ],
      "execution_count": 0,
      "outputs": []
    },
    {
      "metadata": {
        "id": "i2Gk2B5XMMH0",
        "colab_type": "text"
      },
      "cell_type": "markdown",
      "source": [
        "第１層目⇨第２層目と同様に、$A^{(2)}$を行列の内積で導出します。"
      ]
    },
    {
      "metadata": {
        "id": "ZnlwZbKHMWqb",
        "colab_type": "code",
        "outputId": "91ac90aa-87ac-4a09-9e47-5e0e3a2e4483",
        "colab": {
          "base_uri": "https://localhost:8080/",
          "height": 34
        }
      },
      "cell_type": "code",
      "source": [
        ""
      ],
      "execution_count": 0,
      "outputs": [
        {
          "output_type": "stream",
          "text": [
            "[ 0.  -0.5]\n"
          ],
          "name": "stdout"
        }
      ]
    },
    {
      "metadata": {
        "id": "EU0W4xI8MuaM",
        "colab_type": "text"
      },
      "cell_type": "markdown",
      "source": [
        "次に第１層目と同様に、ReLU関数によって$A^{(2)}$を$Z^{(2)}$へ変換します。"
      ]
    },
    {
      "metadata": {
        "id": "ExCr6uvANB9u",
        "colab_type": "code",
        "outputId": "5dbaf1fb-6669-412b-ab29-57d4b3d1e94f",
        "colab": {
          "base_uri": "https://localhost:8080/",
          "height": 34
        }
      },
      "cell_type": "code",
      "source": [
        ""
      ],
      "execution_count": 0,
      "outputs": [
        {
          "output_type": "stream",
          "text": [
            "[0. 0.]\n"
          ],
          "name": "stdout"
        }
      ]
    },
    {
      "metadata": {
        "id": "GReLDVnDN-UJ",
        "colab_type": "text"
      },
      "cell_type": "markdown",
      "source": [
        "以上で、第１層目から第２層目への伝達は完了です。"
      ]
    },
    {
      "metadata": {
        "id": "WxjqfT61ODOr",
        "colab_type": "text"
      },
      "cell_type": "markdown",
      "source": [
        "## 第２層目⇨出力層\n",
        "最後に、隠れ層である第２層目から出力層への伝達の実装を行います。第２層目から出力層１番目のニューロン$a_1^{(3)}$への伝達を、以下の図6.5で表します。\n",
        "\n",
        "\n",
        "<div align=center>\n",
        "![代替テキスト](http://wiki.nepp.tokyo:8080/uploads/images/drawio/2019-02-Feb/Drawing-Kushiro-Taichi-1550320909.png)<br>\n",
        "図6.4　第２層目からの出力層１番目のニューロン$a_1^{(3)}$への伝達\n",
        "</div><br>"
      ]
    },
    {
      "metadata": {
        "id": "R5J-ZtekSXuI",
        "colab_type": "text"
      },
      "cell_type": "markdown",
      "source": [
        "以下のコードで、$W^{(3)}$、$B^{(3)}$をセットします。"
      ]
    },
    {
      "metadata": {
        "id": "YNJqgvy4LrRz",
        "colab_type": "code",
        "colab": {}
      },
      "cell_type": "code",
      "source": [
        "w3 = np.array([[-0.8,0.1],[-0.6,1.2]])\n",
        "b3 = np.array([1.8,-1.8])"
      ],
      "execution_count": 0,
      "outputs": []
    },
    {
      "metadata": {
        "id": "nJ7n6l4HSazi",
        "colab_type": "text"
      },
      "cell_type": "markdown",
      "source": [
        "次に$A^{(3)}$を行列の内積で導出します。"
      ]
    },
    {
      "metadata": {
        "id": "wjyDYVT8ShMY",
        "colab_type": "code",
        "outputId": "513e638a-548a-49d4-89a9-1a2ef87842be",
        "colab": {
          "base_uri": "https://localhost:8080/",
          "height": 34
        }
      },
      "cell_type": "code",
      "source": [
        ""
      ],
      "execution_count": 0,
      "outputs": [
        {
          "output_type": "stream",
          "text": [
            "[ 1.8 -1.8]\n"
          ],
          "name": "stdout"
        }
      ]
    },
    {
      "metadata": {
        "id": "Od_m2japTpZ7",
        "colab_type": "text"
      },
      "cell_type": "markdown",
      "source": [
        "以上で、$A^{(3)}$を求めることができました。"
      ]
    },
    {
      "metadata": {
        "id": "m0KL0dtwS-7z",
        "colab_type": "text"
      },
      "cell_type": "markdown",
      "source": [
        "## ソフトマックス関数\n",
        "最後に、活性化関数によって$A^{(3)}$から$Y$への変換を行います。しかしここではReLU関数は用いず、ソフトマックス関数と呼ばれる活性化関数を用います。  \n",
        "最終的な出力層において、それぞれのニューロンが何番目であるかを$i$番目と表す場合、ソフトマックス関数を用いて出力$y_i$を求める際は、以下のような計算式となります。なお、$n$は出力層におけるニューロンの個数とします。\n",
        "\n",
        "<div align=center>\n",
        "$$\n",
        "\\begin{align}\n",
        "        y_i & = \\frac{exp(a_i)}{\\sum_{k=1}^n exp(a_k)}\\quad &&(6.7)\\\\\n",
        "\\end{align}\n",
        "$$\n",
        "</div>"
      ]
    },
    {
      "metadata": {
        "id": "CaQTCPgqa_De",
        "colab_type": "text"
      },
      "cell_type": "markdown",
      "source": [
        "例として、$A=\\left( a_1,a_2\\right) = \\left( 1.2,1.8\\right)$となるような入力$A$が与えらたとき、ソフトマックス関数は$Y=\\left( y_1,y_2\\right) = \\left( 0.4,0.6\\right)$のように、$\\sum_{i=1}^n y_i = 1$となる値を出力します。\n",
        "\n",
        "よって、ニューラルネットワークの出力をあたかもサンプルがどの分類に属するかの確率のように表すことができます。"
      ]
    },
    {
      "metadata": {
        "id": "VDjKtgnSesvh",
        "colab_type": "text"
      },
      "cell_type": "markdown",
      "source": [
        "ソフトマックス関数はnumpyを用いると以下のコードで実装できます。ここでは、コードの説明は省略します。"
      ]
    },
    {
      "metadata": {
        "id": "ZImvgnNfddIq",
        "colab_type": "code",
        "colab": {}
      },
      "cell_type": "code",
      "source": [
        "def softmax(a):\n",
        "    c=np.max(a)\n",
        "    exp_a=np.exp(a-c)\n",
        "    sum_exp_a=np.sum(exp_a)\n",
        "    y=exp_a/sum_exp_a\n",
        "    \n",
        "    return y"
      ],
      "execution_count": 0,
      "outputs": []
    },
    {
      "metadata": {
        "id": "gcsk9641L8qR",
        "colab_type": "text"
      },
      "cell_type": "markdown",
      "source": [
        "ソフトマックス関数を用いて、$A^{(3)}$から出力$Y$への変換を行います。"
      ]
    },
    {
      "metadata": {
        "id": "6tZ4bTFWMHTn",
        "colab_type": "code",
        "outputId": "3cce21cf-d066-419e-a266-89b8e9f39ab1",
        "colab": {
          "base_uri": "https://localhost:8080/",
          "height": 34
        }
      },
      "cell_type": "code",
      "source": [
        ""
      ],
      "execution_count": 0,
      "outputs": [
        {
          "output_type": "stream",
          "text": [
            "[0.97340301 0.02659699]\n"
          ],
          "name": "stdout"
        }
      ]
    },
    {
      "metadata": {
        "id": "nMz5RBmKMsyK",
        "colab_type": "text"
      },
      "cell_type": "markdown",
      "source": [
        "以上の出力$y$は、与えられた入力$X$のデータを持つサンプルがsetosaである確率が約$97.3\\%$、versicolorである確率が約$2.7\\%$と捉えることができます。抽出したサンプルの先頭である入力$X$はsetosaのサンプルであったため、高い分類結果を出力することができました。"
      ]
    },
    {
      "metadata": {
        "id": "DU4Gg4VTNk-v",
        "colab_type": "text"
      },
      "cell_type": "markdown",
      "source": [
        "## 実装まとめ\n",
        "これまでの流れを関数にまとめたものが以下のコードになります。"
      ]
    },
    {
      "metadata": {
        "id": "GqXDDUsiNy-z",
        "colab_type": "code",
        "colab": {}
      },
      "cell_type": "code",
      "source": [
        "def forword(x):\n",
        "    w1 = np.array([[-0.9,-0.9,-0.5],[0.9,0.5,1.8]])\n",
        "    b1 = np.array([0,0,-0.4])\n",
        "    w2 = np.array([[0.9,-0.1],[0.7,0.6],[-0.7,1.4]])\n",
        "    b2 = np.array([0,-0.5])\n",
        "    w3 = np.array([[-0.8,0.1],[-0.6,1.2]])\n",
        "    b3 = np.array([1.8,-1.8])\n",
        "    \n",
        "    return y"
      ],
      "execution_count": 0,
      "outputs": []
    },
    {
      "metadata": {
        "id": "V0sBODyWOPpx",
        "colab_type": "text"
      },
      "cell_type": "markdown",
      "source": [
        "作成した関数を用いて、抽出した全てのサンプル100個の分類を行います。"
      ]
    },
    {
      "metadata": {
        "id": "SZwaKEJYOYNr",
        "colab_type": "code",
        "outputId": "e6f91341-afaa-4912-c77e-a2b3338a31eb",
        "colab": {
          "base_uri": "https://localhost:8080/",
          "height": 10217
        }
      },
      "cell_type": "code",
      "source": [
        "for i in range(100):\n",
        "    x = np.array(X[i])\n",
        "    y=forword(x)\n",
        "    print('花の種類：', Y[i])\n",
        "    print(f'ガクの長さ:{X[i][0]}')\n",
        "    print(f'花弁の長さ:{X[1][0]}')\n",
        "    print(f'予測割合： setosa -> {round(y[0],3)} versicolor -> {round(y[1],3)}',)\n",
        "    print('予測結果：',iris_name[np.argmax(y)])\n",
        "    print('---------------------------')"
      ],
      "execution_count": 0,
      "outputs": [
        {
          "output_type": "stream",
          "text": [
            "花の種類： setosa\n",
            "ガクの長さ:5.1\n",
            "花弁の長さ:4.9\n",
            "予測割合： setosa -> 0.973 versicolor -> 0.027\n",
            "予測結果： setosa\n",
            "---------------------------\n",
            "花の種類： setosa\n",
            "ガクの長さ:4.9\n",
            "花弁の長さ:4.9\n",
            "予測割合： setosa -> 0.973 versicolor -> 0.027\n",
            "予測結果： setosa\n",
            "---------------------------\n",
            "花の種類： setosa\n",
            "ガクの長さ:4.7\n",
            "花弁の長さ:4.9\n",
            "予測割合： setosa -> 0.973 versicolor -> 0.027\n",
            "予測結果： setosa\n",
            "---------------------------\n",
            "花の種類： setosa\n",
            "ガクの長さ:4.6\n",
            "花弁の長さ:4.9\n",
            "予測割合： setosa -> 0.973 versicolor -> 0.027\n",
            "予測結果： setosa\n",
            "---------------------------\n",
            "花の種類： setosa\n",
            "ガクの長さ:5.0\n",
            "花弁の長さ:4.9\n",
            "予測割合： setosa -> 0.973 versicolor -> 0.027\n",
            "予測結果： setosa\n",
            "---------------------------\n",
            "花の種類： setosa\n",
            "ガクの長さ:5.4\n",
            "花弁の長さ:4.9\n",
            "予測割合： setosa -> 0.973 versicolor -> 0.027\n",
            "予測結果： setosa\n",
            "---------------------------\n",
            "花の種類： setosa\n",
            "ガクの長さ:4.6\n",
            "花弁の長さ:4.9\n",
            "予測割合： setosa -> 0.973 versicolor -> 0.027\n",
            "予測結果： setosa\n",
            "---------------------------\n",
            "花の種類： setosa\n",
            "ガクの長さ:5.0\n",
            "花弁の長さ:4.9\n",
            "予測割合： setosa -> 0.973 versicolor -> 0.027\n",
            "予測結果： setosa\n",
            "---------------------------\n",
            "花の種類： setosa\n",
            "ガクの長さ:4.4\n",
            "花弁の長さ:4.9\n",
            "予測割合： setosa -> 0.973 versicolor -> 0.027\n",
            "予測結果： setosa\n",
            "---------------------------\n",
            "花の種類： setosa\n",
            "ガクの長さ:4.9\n",
            "花弁の長さ:4.9\n",
            "予測割合： setosa -> 0.973 versicolor -> 0.027\n",
            "予測結果： setosa\n",
            "---------------------------\n",
            "花の種類： setosa\n",
            "ガクの長さ:5.4\n",
            "花弁の長さ:4.9\n",
            "予測割合： setosa -> 0.973 versicolor -> 0.027\n",
            "予測結果： setosa\n",
            "---------------------------\n",
            "花の種類： setosa\n",
            "ガクの長さ:4.8\n",
            "花弁の長さ:4.9\n",
            "予測割合： setosa -> 0.973 versicolor -> 0.027\n",
            "予測結果： setosa\n",
            "---------------------------\n",
            "花の種類： setosa\n",
            "ガクの長さ:4.8\n",
            "花弁の長さ:4.9\n",
            "予測割合： setosa -> 0.973 versicolor -> 0.027\n",
            "予測結果： setosa\n",
            "---------------------------\n",
            "花の種類： setosa\n",
            "ガクの長さ:4.3\n",
            "花弁の長さ:4.9\n",
            "予測割合： setosa -> 0.973 versicolor -> 0.027\n",
            "予測結果： setosa\n",
            "---------------------------\n",
            "花の種類： setosa\n",
            "ガクの長さ:5.8\n",
            "花弁の長さ:4.9\n",
            "予測割合： setosa -> 0.973 versicolor -> 0.027\n",
            "予測結果： setosa\n",
            "---------------------------\n",
            "花の種類： setosa\n",
            "ガクの長さ:5.7\n",
            "花弁の長さ:4.9\n",
            "予測割合： setosa -> 0.973 versicolor -> 0.027\n",
            "予測結果： setosa\n",
            "---------------------------\n",
            "花の種類： setosa\n",
            "ガクの長さ:5.4\n",
            "花弁の長さ:4.9\n",
            "予測割合： setosa -> 0.973 versicolor -> 0.027\n",
            "予測結果： setosa\n",
            "---------------------------\n",
            "花の種類： setosa\n",
            "ガクの長さ:5.1\n",
            "花弁の長さ:4.9\n",
            "予測割合： setosa -> 0.973 versicolor -> 0.027\n",
            "予測結果： setosa\n",
            "---------------------------\n",
            "花の種類： setosa\n",
            "ガクの長さ:5.7\n",
            "花弁の長さ:4.9\n",
            "予測割合： setosa -> 0.973 versicolor -> 0.027\n",
            "予測結果： setosa\n",
            "---------------------------\n",
            "花の種類： setosa\n",
            "ガクの長さ:5.1\n",
            "花弁の長さ:4.9\n",
            "予測割合： setosa -> 0.973 versicolor -> 0.027\n",
            "予測結果： setosa\n",
            "---------------------------\n",
            "花の種類： setosa\n",
            "ガクの長さ:5.4\n",
            "花弁の長さ:4.9\n",
            "予測割合： setosa -> 0.973 versicolor -> 0.027\n",
            "予測結果： setosa\n",
            "---------------------------\n",
            "花の種類： setosa\n",
            "ガクの長さ:5.1\n",
            "花弁の長さ:4.9\n",
            "予測割合： setosa -> 0.973 versicolor -> 0.027\n",
            "予測結果： setosa\n",
            "---------------------------\n",
            "花の種類： setosa\n",
            "ガクの長さ:4.6\n",
            "花弁の長さ:4.9\n",
            "予測割合： setosa -> 0.973 versicolor -> 0.027\n",
            "予測結果： setosa\n",
            "---------------------------\n",
            "花の種類： setosa\n",
            "ガクの長さ:5.1\n",
            "花弁の長さ:4.9\n",
            "予測割合： setosa -> 0.973 versicolor -> 0.027\n",
            "予測結果： setosa\n",
            "---------------------------\n",
            "花の種類： setosa\n",
            "ガクの長さ:4.8\n",
            "花弁の長さ:4.9\n",
            "予測割合： setosa -> 0.95 versicolor -> 0.05\n",
            "予測結果： setosa\n",
            "---------------------------\n",
            "花の種類： setosa\n",
            "ガクの長さ:5.0\n",
            "花弁の長さ:4.9\n",
            "予測割合： setosa -> 0.973 versicolor -> 0.027\n",
            "予測結果： setosa\n",
            "---------------------------\n",
            "花の種類： setosa\n",
            "ガクの長さ:5.0\n",
            "花弁の長さ:4.9\n",
            "予測割合： setosa -> 0.973 versicolor -> 0.027\n",
            "予測結果： setosa\n",
            "---------------------------\n",
            "花の種類： setosa\n",
            "ガクの長さ:5.2\n",
            "花弁の長さ:4.9\n",
            "予測割合： setosa -> 0.973 versicolor -> 0.027\n",
            "予測結果： setosa\n",
            "---------------------------\n",
            "花の種類： setosa\n",
            "ガクの長さ:5.2\n",
            "花弁の長さ:4.9\n",
            "予測割合： setosa -> 0.973 versicolor -> 0.027\n",
            "予測結果： setosa\n",
            "---------------------------\n",
            "花の種類： setosa\n",
            "ガクの長さ:4.7\n",
            "花弁の長さ:4.9\n",
            "予測割合： setosa -> 0.973 versicolor -> 0.027\n",
            "予測結果： setosa\n",
            "---------------------------\n",
            "花の種類： setosa\n",
            "ガクの長さ:4.8\n",
            "花弁の長さ:4.9\n",
            "予測割合： setosa -> 0.973 versicolor -> 0.027\n",
            "予測結果： setosa\n",
            "---------------------------\n",
            "花の種類： setosa\n",
            "ガクの長さ:5.4\n",
            "花弁の長さ:4.9\n",
            "予測割合： setosa -> 0.973 versicolor -> 0.027\n",
            "予測結果： setosa\n",
            "---------------------------\n",
            "花の種類： setosa\n",
            "ガクの長さ:5.2\n",
            "花弁の長さ:4.9\n",
            "予測割合： setosa -> 0.973 versicolor -> 0.027\n",
            "予測結果： setosa\n",
            "---------------------------\n",
            "花の種類： setosa\n",
            "ガクの長さ:5.5\n",
            "花弁の長さ:4.9\n",
            "予測割合： setosa -> 0.973 versicolor -> 0.027\n",
            "予測結果： setosa\n",
            "---------------------------\n",
            "花の種類： setosa\n",
            "ガクの長さ:4.9\n",
            "花弁の長さ:4.9\n",
            "予測割合： setosa -> 0.973 versicolor -> 0.027\n",
            "予測結果： setosa\n",
            "---------------------------\n",
            "花の種類： setosa\n",
            "ガクの長さ:5.0\n",
            "花弁の長さ:4.9\n",
            "予測割合： setosa -> 0.973 versicolor -> 0.027\n",
            "予測結果： setosa\n",
            "---------------------------\n",
            "花の種類： setosa\n",
            "ガクの長さ:5.5\n",
            "花弁の長さ:4.9\n",
            "予測割合： setosa -> 0.973 versicolor -> 0.027\n",
            "予測結果： setosa\n",
            "---------------------------\n",
            "花の種類： setosa\n",
            "ガクの長さ:4.9\n",
            "花弁の長さ:4.9\n",
            "予測割合： setosa -> 0.973 versicolor -> 0.027\n",
            "予測結果： setosa\n",
            "---------------------------\n",
            "花の種類： setosa\n",
            "ガクの長さ:4.4\n",
            "花弁の長さ:4.9\n",
            "予測割合： setosa -> 0.973 versicolor -> 0.027\n",
            "予測結果： setosa\n",
            "---------------------------\n",
            "花の種類： setosa\n",
            "ガクの長さ:5.1\n",
            "花弁の長さ:4.9\n",
            "予測割合： setosa -> 0.973 versicolor -> 0.027\n",
            "予測結果： setosa\n",
            "---------------------------\n",
            "花の種類： setosa\n",
            "ガクの長さ:5.0\n",
            "花弁の長さ:4.9\n",
            "予測割合： setosa -> 0.973 versicolor -> 0.027\n",
            "予測結果： setosa\n",
            "---------------------------\n",
            "花の種類： setosa\n",
            "ガクの長さ:4.5\n",
            "花弁の長さ:4.9\n",
            "予測割合： setosa -> 0.973 versicolor -> 0.027\n",
            "予測結果： setosa\n",
            "---------------------------\n",
            "花の種類： setosa\n",
            "ガクの長さ:4.4\n",
            "花弁の長さ:4.9\n",
            "予測割合： setosa -> 0.973 versicolor -> 0.027\n",
            "予測結果： setosa\n",
            "---------------------------\n",
            "花の種類： setosa\n",
            "ガクの長さ:5.0\n",
            "花弁の長さ:4.9\n",
            "予測割合： setosa -> 0.973 versicolor -> 0.027\n",
            "予測結果： setosa\n",
            "---------------------------\n",
            "花の種類： setosa\n",
            "ガクの長さ:5.1\n",
            "花弁の長さ:4.9\n",
            "予測割合： setosa -> 0.965 versicolor -> 0.035\n",
            "予測結果： setosa\n",
            "---------------------------\n",
            "花の種類： setosa\n",
            "ガクの長さ:4.8\n",
            "花弁の長さ:4.9\n",
            "予測割合： setosa -> 0.973 versicolor -> 0.027\n",
            "予測結果： setosa\n",
            "---------------------------\n",
            "花の種類： setosa\n",
            "ガクの長さ:5.1\n",
            "花弁の長さ:4.9\n",
            "予測割合： setosa -> 0.973 versicolor -> 0.027\n",
            "予測結果： setosa\n",
            "---------------------------\n",
            "花の種類： setosa\n",
            "ガクの長さ:4.6\n",
            "花弁の長さ:4.9\n",
            "予測割合： setosa -> 0.973 versicolor -> 0.027\n",
            "予測結果： setosa\n",
            "---------------------------\n",
            "花の種類： setosa\n",
            "ガクの長さ:5.3\n",
            "花弁の長さ:4.9\n",
            "予測割合： setosa -> 0.973 versicolor -> 0.027\n",
            "予測結果： setosa\n",
            "---------------------------\n",
            "花の種類： setosa\n",
            "ガクの長さ:5.0\n",
            "花弁の長さ:4.9\n",
            "予測割合： setosa -> 0.973 versicolor -> 0.027\n",
            "予測結果： setosa\n",
            "---------------------------\n",
            "花の種類： versicolor\n",
            "ガクの長さ:7.0\n",
            "花弁の長さ:4.9\n",
            "予測割合： setosa -> 0.001 versicolor -> 0.999\n",
            "予測結果： versicolor\n",
            "---------------------------\n",
            "花の種類： versicolor\n",
            "ガクの長さ:6.4\n",
            "花弁の長さ:4.9\n",
            "予測割合： setosa -> 0.001 versicolor -> 0.999\n",
            "予測結果： versicolor\n",
            "---------------------------\n",
            "花の種類： versicolor\n",
            "ガクの長さ:6.9\n",
            "花弁の長さ:4.9\n",
            "予測割合： setosa -> 0.0 versicolor -> 1.0\n",
            "予測結果： versicolor\n",
            "---------------------------\n",
            "花の種類： versicolor\n",
            "ガクの長さ:5.5\n",
            "花弁の長さ:4.9\n",
            "予測割合： setosa -> 0.003 versicolor -> 0.997\n",
            "予測結果： versicolor\n",
            "---------------------------\n",
            "花の種類： versicolor\n",
            "ガクの長さ:6.5\n",
            "花弁の長さ:4.9\n",
            "予測割合： setosa -> 0.001 versicolor -> 0.999\n",
            "予測結果： versicolor\n",
            "---------------------------\n",
            "花の種類： versicolor\n",
            "ガクの長さ:5.7\n",
            "花弁の長さ:4.9\n",
            "予測割合： setosa -> 0.0 versicolor -> 1.0\n",
            "予測結果： versicolor\n",
            "---------------------------\n",
            "花の種類： versicolor\n",
            "ガクの長さ:6.3\n",
            "花弁の長さ:4.9\n",
            "予測割合： setosa -> 0.0 versicolor -> 1.0\n",
            "予測結果： versicolor\n",
            "---------------------------\n",
            "花の種類： versicolor\n",
            "ガクの長さ:4.9\n",
            "花弁の長さ:4.9\n",
            "予測割合： setosa -> 0.036 versicolor -> 0.964\n",
            "予測結果： versicolor\n",
            "---------------------------\n",
            "花の種類： versicolor\n",
            "ガクの長さ:6.6\n",
            "花弁の長さ:4.9\n",
            "予測割合： setosa -> 0.001 versicolor -> 0.999\n",
            "予測結果： versicolor\n",
            "---------------------------\n",
            "花の種類： versicolor\n",
            "ガクの長さ:5.2\n",
            "花弁の長さ:4.9\n",
            "予測割合： setosa -> 0.004 versicolor -> 0.996\n",
            "予測結果： versicolor\n",
            "---------------------------\n",
            "花の種類： versicolor\n",
            "ガクの長さ:5.0\n",
            "花弁の長さ:4.9\n",
            "予測割合： setosa -> 0.017 versicolor -> 0.983\n",
            "予測結果： versicolor\n",
            "---------------------------\n",
            "花の種類： versicolor\n",
            "ガクの長さ:5.9\n",
            "花弁の長さ:4.9\n",
            "予測割合： setosa -> 0.002 versicolor -> 0.998\n",
            "予測結果： versicolor\n",
            "---------------------------\n",
            "花の種類： versicolor\n",
            "ガクの長さ:6.0\n",
            "花弁の長さ:4.9\n",
            "予測割合： setosa -> 0.006 versicolor -> 0.994\n",
            "予測結果： versicolor\n",
            "---------------------------\n",
            "花の種類： versicolor\n",
            "ガクの長さ:6.1\n",
            "花弁の長さ:4.9\n",
            "予測割合： setosa -> 0.0 versicolor -> 1.0\n",
            "予測結果： versicolor\n",
            "---------------------------\n",
            "花の種類： versicolor\n",
            "ガクの長さ:5.6\n",
            "花弁の長さ:4.9\n",
            "予測割合： setosa -> 0.023 versicolor -> 0.977\n",
            "予測結果： versicolor\n",
            "---------------------------\n",
            "花の種類： versicolor\n",
            "ガクの長さ:6.7\n",
            "花弁の長さ:4.9\n",
            "予測割合： setosa -> 0.002 versicolor -> 0.998\n",
            "予測結果： versicolor\n",
            "---------------------------\n",
            "花の種類： versicolor\n",
            "ガクの長さ:5.6\n",
            "花弁の長さ:4.9\n",
            "予測割合： setosa -> 0.0 versicolor -> 1.0\n",
            "予測結果： versicolor\n",
            "---------------------------\n",
            "花の種類： versicolor\n",
            "ガクの長さ:5.8\n",
            "花弁の長さ:4.9\n",
            "予測割合： setosa -> 0.003 versicolor -> 0.997\n",
            "予測結果： versicolor\n",
            "---------------------------\n",
            "花の種類： versicolor\n",
            "ガクの長さ:6.2\n",
            "花弁の長さ:4.9\n",
            "予測割合： setosa -> 0.001 versicolor -> 0.999\n",
            "予測結果： versicolor\n",
            "---------------------------\n",
            "花の種類： versicolor\n",
            "ガクの長さ:5.6\n",
            "花弁の長さ:4.9\n",
            "予測割合： setosa -> 0.006 versicolor -> 0.994\n",
            "予測結果： versicolor\n",
            "---------------------------\n",
            "花の種類： versicolor\n",
            "ガクの長さ:5.9\n",
            "花弁の長さ:4.9\n",
            "予測割合： setosa -> 0.0 versicolor -> 1.0\n",
            "予測結果： versicolor\n",
            "---------------------------\n",
            "花の種類： versicolor\n",
            "ガクの長さ:6.1\n",
            "花弁の長さ:4.9\n",
            "予測割合： setosa -> 0.007 versicolor -> 0.993\n",
            "予測結果： versicolor\n",
            "---------------------------\n",
            "花の種類： versicolor\n",
            "ガクの長さ:6.3\n",
            "花弁の長さ:4.9\n",
            "予測割合： setosa -> 0.0 versicolor -> 1.0\n",
            "予測結果： versicolor\n",
            "---------------------------\n",
            "花の種類： versicolor\n",
            "ガクの長さ:6.1\n",
            "花弁の長さ:4.9\n",
            "予測割合： setosa -> 0.0 versicolor -> 1.0\n",
            "予測結果： versicolor\n",
            "---------------------------\n",
            "花の種類： versicolor\n",
            "ガクの長さ:6.4\n",
            "花弁の長さ:4.9\n",
            "予測割合： setosa -> 0.003 versicolor -> 0.997\n",
            "予測結果： versicolor\n",
            "---------------------------\n",
            "花の種類： versicolor\n",
            "ガクの長さ:6.6\n",
            "花弁の長さ:4.9\n",
            "予測割合： setosa -> 0.002 versicolor -> 0.998\n",
            "予測結果： versicolor\n",
            "---------------------------\n",
            "花の種類： versicolor\n",
            "ガクの長さ:6.8\n",
            "花弁の長さ:4.9\n",
            "予測割合： setosa -> 0.0 versicolor -> 1.0\n",
            "予測結果： versicolor\n",
            "---------------------------\n",
            "花の種類： versicolor\n",
            "ガクの長さ:6.7\n",
            "花弁の長さ:4.9\n",
            "予測割合： setosa -> 0.0 versicolor -> 1.0\n",
            "予測結果： versicolor\n",
            "---------------------------\n",
            "花の種類： versicolor\n",
            "ガクの長さ:6.0\n",
            "花弁の長さ:4.9\n",
            "予測割合： setosa -> 0.001 versicolor -> 0.999\n",
            "予測結果： versicolor\n",
            "---------------------------\n",
            "花の種類： versicolor\n",
            "ガクの長さ:5.7\n",
            "花弁の長さ:4.9\n",
            "予測割合： setosa -> 0.04 versicolor -> 0.96\n",
            "予測結果： versicolor\n",
            "---------------------------\n",
            "花の種類： versicolor\n",
            "ガクの長さ:5.5\n",
            "花弁の長さ:4.9\n",
            "予測割合： setosa -> 0.008 versicolor -> 0.992\n",
            "予測結果： versicolor\n",
            "---------------------------\n",
            "花の種類： versicolor\n",
            "ガクの長さ:5.5\n",
            "花弁の長さ:4.9\n",
            "予測割合： setosa -> 0.013 versicolor -> 0.987\n",
            "予測結果： versicolor\n",
            "---------------------------\n",
            "花の種類： versicolor\n",
            "ガクの長さ:5.8\n",
            "花弁の長さ:4.9\n",
            "予測割合： setosa -> 0.008 versicolor -> 0.992\n",
            "予測結果： versicolor\n",
            "---------------------------\n",
            "花の種類： versicolor\n",
            "ガクの長さ:6.0\n",
            "花弁の長さ:4.9\n",
            "予測割合： setosa -> 0.0 versicolor -> 1.0\n",
            "予測結果： versicolor\n",
            "---------------------------\n",
            "花の種類： versicolor\n",
            "ガクの長さ:5.4\n",
            "花弁の長さ:4.9\n",
            "予測割合： setosa -> 0.0 versicolor -> 1.0\n",
            "予測結果： versicolor\n",
            "---------------------------\n",
            "花の種類： versicolor\n",
            "ガクの長さ:6.0\n",
            "花弁の長さ:4.9\n",
            "予測割合： setosa -> 0.001 versicolor -> 0.999\n",
            "予測結果： versicolor\n",
            "---------------------------\n",
            "花の種類： versicolor\n",
            "ガクの長さ:6.7\n",
            "花弁の長さ:4.9\n",
            "予測割合： setosa -> 0.001 versicolor -> 0.999\n",
            "予測結果： versicolor\n",
            "---------------------------\n",
            "花の種類： versicolor\n",
            "ガクの長さ:6.3\n",
            "花弁の長さ:4.9\n",
            "予測割合： setosa -> 0.001 versicolor -> 0.999\n",
            "予測結果： versicolor\n",
            "---------------------------\n",
            "花の種類： versicolor\n",
            "ガクの長さ:5.6\n",
            "花弁の長さ:4.9\n",
            "予測割合： setosa -> 0.002 versicolor -> 0.998\n",
            "予測結果： versicolor\n",
            "---------------------------\n",
            "花の種類： versicolor\n",
            "ガクの長さ:5.5\n",
            "花弁の長さ:4.9\n",
            "予測割合： setosa -> 0.003 versicolor -> 0.997\n",
            "予測結果： versicolor\n",
            "---------------------------\n",
            "花の種類： versicolor\n",
            "ガクの長さ:5.5\n",
            "花弁の長さ:4.9\n",
            "予測割合： setosa -> 0.001 versicolor -> 0.999\n",
            "予測結果： versicolor\n",
            "---------------------------\n",
            "花の種類： versicolor\n",
            "ガクの長さ:6.1\n",
            "花弁の長さ:4.9\n",
            "予測割合： setosa -> 0.0 versicolor -> 1.0\n",
            "予測結果： versicolor\n",
            "---------------------------\n",
            "花の種類： versicolor\n",
            "ガクの長さ:5.8\n",
            "花弁の長さ:4.9\n",
            "予測割合： setosa -> 0.005 versicolor -> 0.995\n",
            "予測結果： versicolor\n",
            "---------------------------\n",
            "花の種類： versicolor\n",
            "ガクの長さ:5.0\n",
            "花弁の長さ:4.9\n",
            "予測割合： setosa -> 0.041 versicolor -> 0.959\n",
            "予測結果： versicolor\n",
            "---------------------------\n",
            "花の種類： versicolor\n",
            "ガクの長さ:5.6\n",
            "花弁の長さ:4.9\n",
            "予測割合： setosa -> 0.002 versicolor -> 0.998\n",
            "予測結果： versicolor\n",
            "---------------------------\n",
            "花の種類： versicolor\n",
            "ガクの長さ:5.7\n",
            "花弁の長さ:4.9\n",
            "予測割合： setosa -> 0.002 versicolor -> 0.998\n",
            "予測結果： versicolor\n",
            "---------------------------\n",
            "花の種類： versicolor\n",
            "ガクの長さ:5.7\n",
            "花弁の長さ:4.9\n",
            "予測割合： setosa -> 0.002 versicolor -> 0.998\n",
            "予測結果： versicolor\n",
            "---------------------------\n",
            "花の種類： versicolor\n",
            "ガクの長さ:6.2\n",
            "花弁の長さ:4.9\n",
            "予測割合： setosa -> 0.002 versicolor -> 0.998\n",
            "予測結果： versicolor\n",
            "---------------------------\n",
            "花の種類： versicolor\n",
            "ガクの長さ:5.1\n",
            "花弁の長さ:4.9\n",
            "予測割合： setosa -> 0.158 versicolor -> 0.842\n",
            "予測結果： versicolor\n",
            "---------------------------\n",
            "花の種類： versicolor\n",
            "ガクの長さ:5.7\n",
            "花弁の長さ:4.9\n",
            "予測割合： setosa -> 0.003 versicolor -> 0.997\n",
            "予測結果： versicolor\n",
            "---------------------------\n"
          ],
          "name": "stdout"
        }
      ]
    },
    {
      "metadata": {
        "id": "kHXFZcIoOtSL",
        "colab_type": "text"
      },
      "cell_type": "markdown",
      "source": [
        "以上で、irisデータセットの花の分類を行うニューラルネットワークを実装することができました。"
      ]
    },
    {
      "metadata": {
        "id": "QmsGX_-XAWxL",
        "colab_type": "text"
      },
      "cell_type": "markdown",
      "source": [
        "# 参考文献\n",
        "[ゼロから作るディープラーニング](https://www.amazon.co.jp/dp/4873117585/ref=asc_df_48731175852587512/?tag=jpgo-22&creative=9303&creativeASIN=4873117585&linkCode=df0&hvadid=295686767484&hvpos=1o1&hvnetw=g&hvrand=1462346276493694429&hvpone=&hvptwo=&hvqmt=&hvdev=c&hvdvcmdl=&hvlocint=&hvlocphy=1009298&hvtargid=pla-526224399321&th=1&psc=1)\n",
        "\n",
        "[PRMLの線形回帰モデル（線形基底関数モデル）](https://www.slideshare.net/yasunoriozaki12/prml-29439402)\n",
        "\n",
        "[単回帰分析 | 統計学の時間 | 統計WEB](https://bellcurve.jp/statistics/course/9700.html)\n",
        "\n",
        "[[機械学習] iris データセットを用いて scikit-learn の様々な分類アルゴリズムを試してみた](https://qiita.com/ao_log/items/fe9bd42fd249c2a7ee7a)\n",
        "\n",
        "[NumPyでニューラルネットワークを実装してみる 実装編](https://deepage.net/features/numpy-neuralnetwork-3.html)"
      ]
    }
  ]
}